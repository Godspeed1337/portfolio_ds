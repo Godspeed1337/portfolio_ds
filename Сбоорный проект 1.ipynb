{
 "cells": [
  {
   "cell_type": "markdown",
   "id": "62226951",
   "metadata": {},
   "source": [
    "# Анализ факторов, влияющих на продажи видеоигр для интернет-магазина «Стримчик»\n",
    "\n",
    "Цель проекта — выявить закономерности, определяющие коммерческий успех видеоигр, чтобы использовать эти знания при планировании маркетинговых кампаний и формировании ассортимента.\n",
    "\n",
    "Источник данных: открытые исторические данные о видеоиграх до 2016 года — платформы, жанры, оценки пользователей и критиков, возрастные рейтинги ESRB, а также данные о глобальных и региональных продажах.\n",
    "\n",
    "Основные этапы:\n",
    "\n",
    "- Предобработка данных и исследовательский анализ.\n",
    "\n",
    "- Определение актуального периода анализа.\n",
    "\n",
    "- Сегментация по платформам и жанрам.\n",
    "\n",
    "- Оценка влияния оценок, жанров и рейтингов на продажи.\n",
    "\n",
    "Проект демонстрирует навыки EDA, обработки категориальных признаков, выявления трендов и обоснования бизнес-решений на основе данных."
   ]
  },
  {
   "cell_type": "markdown",
   "id": "425377c0",
   "metadata": {},
   "source": [
    "## Откройте файл с данными и изучите общую информацию"
   ]
  },
  {
   "cell_type": "code",
   "execution_count": 1,
   "id": "a0235d9a",
   "metadata": {},
   "outputs": [],
   "source": [
    "import pandas as pd\n",
    "import matplotlib.pyplot as plt\n",
    "from scipy import stats as st"
   ]
  },
  {
   "cell_type": "code",
   "execution_count": 2,
   "id": "392e977a",
   "metadata": {},
   "outputs": [],
   "source": [
    "# Загрузка данных\n",
    "data = pd.read_csv('games.csv')"
   ]
  },
  {
   "cell_type": "code",
   "execution_count": 3,
   "id": "a66764fd",
   "metadata": {},
   "outputs": [],
   "source": [
    "pd.set_option('display.max_columns', None)"
   ]
  },
  {
   "cell_type": "code",
   "execution_count": 4,
   "id": "03d8c46c",
   "metadata": {},
   "outputs": [
    {
     "data": {
      "text/html": [
       "<div>\n",
       "<style scoped>\n",
       "    .dataframe tbody tr th:only-of-type {\n",
       "        vertical-align: middle;\n",
       "    }\n",
       "\n",
       "    .dataframe tbody tr th {\n",
       "        vertical-align: top;\n",
       "    }\n",
       "\n",
       "    .dataframe thead th {\n",
       "        text-align: right;\n",
       "    }\n",
       "</style>\n",
       "<table border=\"1\" class=\"dataframe\">\n",
       "  <thead>\n",
       "    <tr style=\"text-align: right;\">\n",
       "      <th></th>\n",
       "      <th>Name</th>\n",
       "      <th>Platform</th>\n",
       "      <th>Year_of_Release</th>\n",
       "      <th>Genre</th>\n",
       "      <th>NA_sales</th>\n",
       "      <th>EU_sales</th>\n",
       "      <th>JP_sales</th>\n",
       "      <th>Other_sales</th>\n",
       "      <th>Critic_Score</th>\n",
       "      <th>User_Score</th>\n",
       "      <th>Rating</th>\n",
       "    </tr>\n",
       "  </thead>\n",
       "  <tbody>\n",
       "    <tr>\n",
       "      <th>0</th>\n",
       "      <td>Wii Sports</td>\n",
       "      <td>Wii</td>\n",
       "      <td>2006.0</td>\n",
       "      <td>Sports</td>\n",
       "      <td>41.36</td>\n",
       "      <td>28.96</td>\n",
       "      <td>3.77</td>\n",
       "      <td>8.45</td>\n",
       "      <td>76.0</td>\n",
       "      <td>8</td>\n",
       "      <td>E</td>\n",
       "    </tr>\n",
       "    <tr>\n",
       "      <th>1</th>\n",
       "      <td>Super Mario Bros.</td>\n",
       "      <td>NES</td>\n",
       "      <td>1985.0</td>\n",
       "      <td>Platform</td>\n",
       "      <td>29.08</td>\n",
       "      <td>3.58</td>\n",
       "      <td>6.81</td>\n",
       "      <td>0.77</td>\n",
       "      <td>NaN</td>\n",
       "      <td>NaN</td>\n",
       "      <td>NaN</td>\n",
       "    </tr>\n",
       "    <tr>\n",
       "      <th>2</th>\n",
       "      <td>Mario Kart Wii</td>\n",
       "      <td>Wii</td>\n",
       "      <td>2008.0</td>\n",
       "      <td>Racing</td>\n",
       "      <td>15.68</td>\n",
       "      <td>12.76</td>\n",
       "      <td>3.79</td>\n",
       "      <td>3.29</td>\n",
       "      <td>82.0</td>\n",
       "      <td>8.3</td>\n",
       "      <td>E</td>\n",
       "    </tr>\n",
       "    <tr>\n",
       "      <th>3</th>\n",
       "      <td>Wii Sports Resort</td>\n",
       "      <td>Wii</td>\n",
       "      <td>2009.0</td>\n",
       "      <td>Sports</td>\n",
       "      <td>15.61</td>\n",
       "      <td>10.93</td>\n",
       "      <td>3.28</td>\n",
       "      <td>2.95</td>\n",
       "      <td>80.0</td>\n",
       "      <td>8</td>\n",
       "      <td>E</td>\n",
       "    </tr>\n",
       "    <tr>\n",
       "      <th>4</th>\n",
       "      <td>Pokemon Red/Pokemon Blue</td>\n",
       "      <td>GB</td>\n",
       "      <td>1996.0</td>\n",
       "      <td>Role-Playing</td>\n",
       "      <td>11.27</td>\n",
       "      <td>8.89</td>\n",
       "      <td>10.22</td>\n",
       "      <td>1.00</td>\n",
       "      <td>NaN</td>\n",
       "      <td>NaN</td>\n",
       "      <td>NaN</td>\n",
       "    </tr>\n",
       "  </tbody>\n",
       "</table>\n",
       "</div>"
      ],
      "text/plain": [
       "                       Name Platform  Year_of_Release         Genre  NA_sales  \\\n",
       "0                Wii Sports      Wii           2006.0        Sports     41.36   \n",
       "1         Super Mario Bros.      NES           1985.0      Platform     29.08   \n",
       "2            Mario Kart Wii      Wii           2008.0        Racing     15.68   \n",
       "3         Wii Sports Resort      Wii           2009.0        Sports     15.61   \n",
       "4  Pokemon Red/Pokemon Blue       GB           1996.0  Role-Playing     11.27   \n",
       "\n",
       "   EU_sales  JP_sales  Other_sales  Critic_Score User_Score Rating  \n",
       "0     28.96      3.77         8.45          76.0          8      E  \n",
       "1      3.58      6.81         0.77           NaN        NaN    NaN  \n",
       "2     12.76      3.79         3.29          82.0        8.3      E  \n",
       "3     10.93      3.28         2.95          80.0          8      E  \n",
       "4      8.89     10.22         1.00           NaN        NaN    NaN  "
      ]
     },
     "execution_count": 4,
     "metadata": {},
     "output_type": "execute_result"
    }
   ],
   "source": [
    "data.head()"
   ]
  },
  {
   "cell_type": "code",
   "execution_count": 5,
   "id": "b64ddbfe",
   "metadata": {},
   "outputs": [
    {
     "name": "stdout",
     "output_type": "stream",
     "text": [
      "<class 'pandas.core.frame.DataFrame'>\n",
      "RangeIndex: 16715 entries, 0 to 16714\n",
      "Data columns (total 11 columns):\n",
      " #   Column           Non-Null Count  Dtype  \n",
      "---  ------           --------------  -----  \n",
      " 0   Name             16713 non-null  object \n",
      " 1   Platform         16715 non-null  object \n",
      " 2   Year_of_Release  16446 non-null  float64\n",
      " 3   Genre            16713 non-null  object \n",
      " 4   NA_sales         16715 non-null  float64\n",
      " 5   EU_sales         16715 non-null  float64\n",
      " 6   JP_sales         16715 non-null  float64\n",
      " 7   Other_sales      16715 non-null  float64\n",
      " 8   Critic_Score     8137 non-null   float64\n",
      " 9   User_Score       10014 non-null  object \n",
      " 10  Rating           9949 non-null   object \n",
      "dtypes: float64(6), object(5)\n",
      "memory usage: 1.4+ MB\n"
     ]
    }
   ],
   "source": [
    "data.info()"
   ]
  },
  {
   "cell_type": "code",
   "execution_count": 6,
   "id": "5f013f4f",
   "metadata": {},
   "outputs": [
    {
     "data": {
      "image/png": "[encoded data removed]",
      "text/plain": [
       "<Figure size 720x720 with 6 Axes>"
      ]
     },
     "metadata": {
      "needs_background": "light"
     },
     "output_type": "display_data"
    }
   ],
   "source": [
    "data.hist(bins=100, figsize=(10,10));"
   ]
  },
  {
   "cell_type": "markdown",
   "id": "975c38bb",
   "metadata": {},
   "source": [
    "Присутствуют выбросы в столбцах NA_sales, EU_sales, JP_sales, Other_sales.  \n",
    "Столбцы Year_of_Release, Critic_Score имеют распределение, скошенное слева."
   ]
  },
  {
   "cell_type": "markdown",
   "id": "322650ea",
   "metadata": {},
   "source": [
    "## Подготовьте данные"
   ]
  },
  {
   "cell_type": "markdown",
   "id": "56f9d7c1",
   "metadata": {},
   "source": [
    "### Замените названия столбцов (приведите к нижнему регистру);"
   ]
  },
  {
   "cell_type": "code",
   "execution_count": 7,
   "id": "3b991fba",
   "metadata": {},
   "outputs": [],
   "source": [
    "data.rename(inplace=True, columns={'Name': 'name', 'Platform': 'platform', 'Year_of_Release': 'year_of_release', \n",
    "                                   'Genre': 'genre', 'NA_sales': 'na_sales', 'EU_sales': 'eu_sales',\n",
    "                                   'JP_sales': 'jp_sales', 'Other_sales': 'other_sales', 'Critic_Score': 'critic_score',\n",
    "                                   'User_Score': 'user_score', 'Rating': 'rating'})"
   ]
  },
  {
   "cell_type": "code",
   "execution_count": 8,
   "id": "bf77b0b1",
   "metadata": {},
   "outputs": [
    {
     "data": {
      "text/plain": [
       "Index(['name', 'platform', 'year_of_release', 'genre', 'na_sales', 'eu_sales',\n",
       "       'jp_sales', 'other_sales', 'critic_score', 'user_score', 'rating'],\n",
       "      dtype='object')"
      ]
     },
     "execution_count": 8,
     "metadata": {},
     "output_type": "execute_result"
    }
   ],
   "source": [
    "data.columns"
   ]
  },
  {
   "cell_type": "markdown",
   "id": "e248c8ca",
   "metadata": {},
   "source": [
    "### Преобразуйте данные в нужные типы. Опишите, в каких столбцах заменили тип данных и почему;"
   ]
  },
  {
   "cell_type": "markdown",
   "id": "9564f269",
   "metadata": {},
   "source": [
    "year_of_release нужно в int, так как год не может быть с дробной частью. Int64, потому что не будет ошибки с Nan"
   ]
  },
  {
   "cell_type": "code",
   "execution_count": 9,
   "id": "b77f15d5",
   "metadata": {},
   "outputs": [],
   "source": [
    "data['year_of_release'] = data['year_of_release'].astype('Int64')"
   ]
  },
  {
   "cell_type": "code",
   "execution_count": 10,
   "id": "fc5d2b95",
   "metadata": {},
   "outputs": [
    {
     "name": "stdout",
     "output_type": "stream",
     "text": [
      "<class 'pandas.core.frame.DataFrame'>\n",
      "RangeIndex: 16715 entries, 0 to 16714\n",
      "Data columns (total 11 columns):\n",
      " #   Column           Non-Null Count  Dtype  \n",
      "---  ------           --------------  -----  \n",
      " 0   name             16713 non-null  object \n",
      " 1   platform         16715 non-null  object \n",
      " 2   year_of_release  16446 non-null  Int64  \n",
      " 3   genre            16713 non-null  object \n",
      " 4   na_sales         16715 non-null  float64\n",
      " 5   eu_sales         16715 non-null  float64\n",
      " 6   jp_sales         16715 non-null  float64\n",
      " 7   other_sales      16715 non-null  float64\n",
      " 8   critic_score     8137 non-null   float64\n",
      " 9   user_score       10014 non-null  object \n",
      " 10  rating           9949 non-null   object \n",
      "dtypes: Int64(1), float64(5), object(5)\n",
      "memory usage: 1.4+ MB\n"
     ]
    }
   ],
   "source": [
    "data.info()"
   ]
  },
  {
   "cell_type": "markdown",
   "id": "0759c537",
   "metadata": {},
   "source": [
    "В будущем, после обработки пропусков, переведем столбец critic_score в int, так как там тоже нет дробной части.\n",
    "\n",
    "Также, после обработки, user_score переведем в float. На данный момент он представлен в виде строки, а должен быть в виде числа с дробной частью. "
   ]
  },
  {
   "cell_type": "markdown",
   "id": "51789db2",
   "metadata": {},
   "source": [
    "### Обработайте пропуски при необходимости"
   ]
  },
  {
   "cell_type": "code",
   "execution_count": 11,
   "id": "84ae7d97",
   "metadata": {},
   "outputs": [
    {
     "data": {
      "text/plain": [
       "name                  2\n",
       "platform              0\n",
       "year_of_release     269\n",
       "genre                 2\n",
       "na_sales              0\n",
       "eu_sales              0\n",
       "jp_sales              0\n",
       "other_sales           0\n",
       "critic_score       8578\n",
       "user_score         6701\n",
       "rating             6766\n",
       "dtype: int64"
      ]
     },
     "execution_count": 11,
     "metadata": {},
     "output_type": "execute_result"
    }
   ],
   "source": [
    "data.isna().sum()"
   ]
  },
  {
   "cell_type": "code",
   "execution_count": 12,
   "id": "ee326e74",
   "metadata": {},
   "outputs": [
    {
     "data": {
      "text/plain": [
       "name                0.011965\n",
       "platform            0.000000\n",
       "year_of_release     1.609333\n",
       "genre               0.011965\n",
       "na_sales            0.000000\n",
       "eu_sales            0.000000\n",
       "jp_sales            0.000000\n",
       "other_sales         0.000000\n",
       "critic_score       51.319174\n",
       "user_score         40.089740\n",
       "rating             40.478612\n",
       "dtype: float64"
      ]
     },
     "execution_count": 12,
     "metadata": {},
     "output_type": "execute_result"
    }
   ],
   "source": [
    "data.isna().mean()*100"
   ]
  },
  {
   "cell_type": "markdown",
   "id": "f090da8f",
   "metadata": {},
   "source": [
    "- name, year_of_realese, genre\n",
    "\n",
    "Пропуски занимают очень малую часть датасета, можно дропнуть"
   ]
  },
  {
   "cell_type": "code",
   "execution_count": 13,
   "id": "e093884f",
   "metadata": {},
   "outputs": [],
   "source": [
    "data.dropna(subset=['name', 'year_of_release', 'genre'], inplace=True)"
   ]
  },
  {
   "cell_type": "markdown",
   "id": "491e3b0e",
   "metadata": {},
   "source": [
    "- critic_score"
   ]
  },
  {
   "cell_type": "code",
   "execution_count": 14,
   "id": "623b2111",
   "metadata": {},
   "outputs": [
    {
     "data": {
      "text/html": [
       "<div>\n",
       "<style scoped>\n",
       "    .dataframe tbody tr th:only-of-type {\n",
       "        vertical-align: middle;\n",
       "    }\n",
       "\n",
       "    .dataframe tbody tr th {\n",
       "        vertical-align: top;\n",
       "    }\n",
       "\n",
       "    .dataframe thead th {\n",
       "        text-align: right;\n",
       "    }\n",
       "</style>\n",
       "<table border=\"1\" class=\"dataframe\">\n",
       "  <thead>\n",
       "    <tr style=\"text-align: right;\">\n",
       "      <th></th>\n",
       "      <th>year_of_release</th>\n",
       "      <th>na_sales</th>\n",
       "      <th>eu_sales</th>\n",
       "      <th>jp_sales</th>\n",
       "      <th>other_sales</th>\n",
       "      <th>critic_score</th>\n",
       "    </tr>\n",
       "  </thead>\n",
       "  <tbody>\n",
       "    <tr>\n",
       "      <th>year_of_release</th>\n",
       "      <td>1.000000</td>\n",
       "      <td>-0.002386</td>\n",
       "      <td>0.050745</td>\n",
       "      <td>-0.026317</td>\n",
       "      <td>0.053747</td>\n",
       "      <td>0.011411</td>\n",
       "    </tr>\n",
       "    <tr>\n",
       "      <th>na_sales</th>\n",
       "      <td>-0.002386</td>\n",
       "      <td>1.000000</td>\n",
       "      <td>0.842492</td>\n",
       "      <td>0.470186</td>\n",
       "      <td>0.728083</td>\n",
       "      <td>0.240083</td>\n",
       "    </tr>\n",
       "    <tr>\n",
       "      <th>eu_sales</th>\n",
       "      <td>0.050745</td>\n",
       "      <td>0.842492</td>\n",
       "      <td>1.000000</td>\n",
       "      <td>0.520845</td>\n",
       "      <td>0.718019</td>\n",
       "      <td>0.221276</td>\n",
       "    </tr>\n",
       "    <tr>\n",
       "      <th>jp_sales</th>\n",
       "      <td>-0.026317</td>\n",
       "      <td>0.470186</td>\n",
       "      <td>0.520845</td>\n",
       "      <td>1.000000</td>\n",
       "      <td>0.397317</td>\n",
       "      <td>0.153474</td>\n",
       "    </tr>\n",
       "    <tr>\n",
       "      <th>other_sales</th>\n",
       "      <td>0.053747</td>\n",
       "      <td>0.728083</td>\n",
       "      <td>0.718019</td>\n",
       "      <td>0.397317</td>\n",
       "      <td>1.000000</td>\n",
       "      <td>0.198410</td>\n",
       "    </tr>\n",
       "    <tr>\n",
       "      <th>critic_score</th>\n",
       "      <td>0.011411</td>\n",
       "      <td>0.240083</td>\n",
       "      <td>0.221276</td>\n",
       "      <td>0.153474</td>\n",
       "      <td>0.198410</td>\n",
       "      <td>1.000000</td>\n",
       "    </tr>\n",
       "  </tbody>\n",
       "</table>\n",
       "</div>"
      ],
      "text/plain": [
       "                 year_of_release  na_sales  eu_sales  jp_sales  other_sales  \\\n",
       "year_of_release         1.000000 -0.002386  0.050745 -0.026317     0.053747   \n",
       "na_sales               -0.002386  1.000000  0.842492  0.470186     0.728083   \n",
       "eu_sales                0.050745  0.842492  1.000000  0.520845     0.718019   \n",
       "jp_sales               -0.026317  0.470186  0.520845  1.000000     0.397317   \n",
       "other_sales             0.053747  0.728083  0.718019  0.397317     1.000000   \n",
       "critic_score            0.011411  0.240083  0.221276  0.153474     0.198410   \n",
       "\n",
       "                 critic_score  \n",
       "year_of_release      0.011411  \n",
       "na_sales             0.240083  \n",
       "eu_sales             0.221276  \n",
       "jp_sales             0.153474  \n",
       "other_sales          0.198410  \n",
       "critic_score         1.000000  "
      ]
     },
     "execution_count": 14,
     "metadata": {},
     "output_type": "execute_result"
    }
   ],
   "source": [
    "data[~data['critic_score'].isna()].corr()"
   ]
  },
  {
   "cell_type": "markdown",
   "id": "eba23ed8",
   "metadata": {},
   "source": [
    "Корреляции особо нет ни с чем, заполним заглушками, так как удалять столько пропусков нельзя.\n",
    "В будущем при анализе будем учитывать эти заглушки, в следствие чего не будем их брать при построении графиков и тд."
   ]
  },
  {
   "cell_type": "code",
   "execution_count": 15,
   "id": "e10d0da8",
   "metadata": {},
   "outputs": [],
   "source": [
    "data['critic_score'].fillna(-1, inplace=True)"
   ]
  },
  {
   "cell_type": "code",
   "execution_count": 16,
   "id": "f9093367",
   "metadata": {},
   "outputs": [
    {
     "data": {
      "text/plain": [
       "array([76., -1., 82., 80., 89., 58., 87., 91., 61., 97., 95., 77., 88.,\n",
       "       83., 94., 93., 85., 86., 98., 96., 90., 84., 73., 74., 78., 92.,\n",
       "       71., 72., 68., 62., 49., 67., 81., 66., 56., 79., 70., 59., 64.,\n",
       "       75., 60., 63., 69., 50., 25., 42., 44., 55., 48., 57., 29., 47.,\n",
       "       65., 54., 20., 53., 37., 38., 33., 52., 30., 32., 43., 45., 51.,\n",
       "       40., 46., 39., 34., 41., 36., 31., 27., 35., 26., 19., 28., 23.,\n",
       "       24., 21., 17., 13.])"
      ]
     },
     "execution_count": 16,
     "metadata": {},
     "output_type": "execute_result"
    }
   ],
   "source": [
    "data.critic_score.unique()"
   ]
  },
  {
   "cell_type": "markdown",
   "id": "049c7427",
   "metadata": {},
   "source": [
    "Можем перевести столбец в int"
   ]
  },
  {
   "cell_type": "code",
   "execution_count": 17,
   "id": "c164bf81",
   "metadata": {},
   "outputs": [],
   "source": [
    "data['critic_score'] = data['critic_score'].astype(int)"
   ]
  },
  {
   "cell_type": "markdown",
   "id": "0085886c",
   "metadata": {},
   "source": [
    "- user_score"
   ]
  },
  {
   "cell_type": "code",
   "execution_count": 18,
   "id": "3e3fddb9",
   "metadata": {},
   "outputs": [
    {
     "data": {
      "text/plain": [
       "array(['8', nan, '8.3', '8.5', '6.6', '8.4', '8.6', '7.7', '6.3', '7.4',\n",
       "       '8.2', '9', '7.9', '8.1', '8.7', '7.1', '3.4', '5.3', '4.8', '3.2',\n",
       "       '8.9', '6.4', '7.8', '7.5', '2.6', '7.2', '9.2', '7', '7.3', '4.3',\n",
       "       '7.6', '5.7', '5', '9.1', '6.5', 'tbd', '8.8', '6.9', '9.4', '6.8',\n",
       "       '6.1', '6.7', '5.4', '4', '4.9', '4.5', '9.3', '6.2', '4.2', '6',\n",
       "       '3.7', '4.1', '5.8', '5.6', '5.5', '4.4', '4.6', '5.9', '3.9',\n",
       "       '3.1', '2.9', '5.2', '3.3', '4.7', '5.1', '3.5', '2.5', '1.9', '3',\n",
       "       '2.7', '2.2', '2', '9.5', '2.1', '3.6', '2.8', '1.8', '3.8', '0',\n",
       "       '1.6', '9.6', '2.4', '1.7', '1.1', '0.3', '1.5', '0.7', '1.2',\n",
       "       '2.3', '0.5', '1.3', '0.2', '0.6', '1.4', '0.9', '1', '9.7'],\n",
       "      dtype=object)"
      ]
     },
     "execution_count": 18,
     "metadata": {},
     "output_type": "execute_result"
    }
   ],
   "source": [
    "data['user_score'].unique()"
   ]
  },
  {
   "cell_type": "markdown",
   "id": "a484d582",
   "metadata": {},
   "source": [
    "'tbd' мешает нам перевести строку в число. tbd - To Be Determined(будет определено), значит оценки нет, можно поставить заглушку вместо него.\n",
    "\n",
    "Также в будущем при анализе не будем брать эти числа при анализе."
   ]
  },
  {
   "cell_type": "code",
   "execution_count": 19,
   "id": "2bbe2df0",
   "metadata": {},
   "outputs": [],
   "source": [
    "data.loc[data['user_score'] == 'tbd', 'user_score'] = -2"
   ]
  },
  {
   "cell_type": "markdown",
   "id": "01a263de",
   "metadata": {},
   "source": [
    "Переведем столбец в float"
   ]
  },
  {
   "cell_type": "code",
   "execution_count": 20,
   "id": "cabc1570",
   "metadata": {},
   "outputs": [],
   "source": [
    "data['user_score'] = data['user_score'].astype(float)"
   ]
  },
  {
   "cell_type": "markdown",
   "id": "88994dcb",
   "metadata": {},
   "source": [
    "Решим проблему с пропусками. Их слишком много, удалять нельзя, поставим заглушку, которую также в будущем будем учитывать(не брать при анализе)"
   ]
  },
  {
   "cell_type": "code",
   "execution_count": 21,
   "id": "3807f9ac",
   "metadata": {},
   "outputs": [],
   "source": [
    "data['user_score'].fillna(-1, inplace=True)"
   ]
  },
  {
   "cell_type": "markdown",
   "id": "d25c81e3",
   "metadata": {},
   "source": [
    "- rating"
   ]
  },
  {
   "cell_type": "code",
   "execution_count": 22,
   "id": "fbcbcf40",
   "metadata": {},
   "outputs": [
    {
     "name": "stdout",
     "output_type": "stream",
     "text": [
      "['E' nan 'M' 'T' 'E10+' 'K-A' 'AO' 'EC' 'RP']\n"
     ]
    },
    {
     "data": {
      "text/plain": [
       "6676"
      ]
     },
     "execution_count": 22,
     "metadata": {},
     "output_type": "execute_result"
    }
   ],
   "source": [
    "print(data.rating.unique())\n",
    "data.rating.isna().sum()"
   ]
  },
  {
   "cell_type": "markdown",
   "id": "650977f2",
   "metadata": {},
   "source": [
    "Потеряем слишком много данных, если удалим пропуски. Заполним заглушками"
   ]
  },
  {
   "cell_type": "code",
   "execution_count": 23,
   "id": "b1c2dcdb",
   "metadata": {},
   "outputs": [],
   "source": [
    "data.rating.fillna('-1', inplace=True)"
   ]
  },
  {
   "cell_type": "code",
   "execution_count": 24,
   "id": "6a0d9fb7",
   "metadata": {},
   "outputs": [
    {
     "data": {
      "text/plain": [
       "name               0.0\n",
       "platform           0.0\n",
       "year_of_release    0.0\n",
       "genre              0.0\n",
       "na_sales           0.0\n",
       "eu_sales           0.0\n",
       "jp_sales           0.0\n",
       "other_sales        0.0\n",
       "critic_score       0.0\n",
       "user_score         0.0\n",
       "rating             0.0\n",
       "dtype: float64"
      ]
     },
     "execution_count": 24,
     "metadata": {},
     "output_type": "execute_result"
    }
   ],
   "source": [
    "data.isna().mean()*100"
   ]
  },
  {
   "cell_type": "markdown",
   "id": "460ba5de",
   "metadata": {},
   "source": [
    "### Посчитайте суммарные продажи во всех регионах и запишите их в отдельный столбец."
   ]
  },
  {
   "cell_type": "markdown",
   "id": "d1e2b0f6",
   "metadata": {},
   "source": [
    "Данные были без пропусков, -1 не помешает нам"
   ]
  },
  {
   "cell_type": "code",
   "execution_count": 25,
   "id": "24713019",
   "metadata": {},
   "outputs": [],
   "source": [
    "data['all_sales'] = data['na_sales'] + data['eu_sales'] + data['jp_sales'] + data['other_sales']"
   ]
  },
  {
   "cell_type": "code",
   "execution_count": 26,
   "id": "755a2b5f",
   "metadata": {
    "scrolled": false
   },
   "outputs": [
    {
     "data": {
      "text/html": [
       "<div>\n",
       "<style scoped>\n",
       "    .dataframe tbody tr th:only-of-type {\n",
       "        vertical-align: middle;\n",
       "    }\n",
       "\n",
       "    .dataframe tbody tr th {\n",
       "        vertical-align: top;\n",
       "    }\n",
       "\n",
       "    .dataframe thead th {\n",
       "        text-align: right;\n",
       "    }\n",
       "</style>\n",
       "<table border=\"1\" class=\"dataframe\">\n",
       "  <thead>\n",
       "    <tr style=\"text-align: right;\">\n",
       "      <th></th>\n",
       "      <th>name</th>\n",
       "      <th>platform</th>\n",
       "      <th>year_of_release</th>\n",
       "      <th>genre</th>\n",
       "      <th>na_sales</th>\n",
       "      <th>eu_sales</th>\n",
       "      <th>jp_sales</th>\n",
       "      <th>other_sales</th>\n",
       "      <th>critic_score</th>\n",
       "      <th>user_score</th>\n",
       "      <th>rating</th>\n",
       "      <th>all_sales</th>\n",
       "    </tr>\n",
       "  </thead>\n",
       "  <tbody>\n",
       "    <tr>\n",
       "      <th>0</th>\n",
       "      <td>Wii Sports</td>\n",
       "      <td>Wii</td>\n",
       "      <td>2006</td>\n",
       "      <td>Sports</td>\n",
       "      <td>41.36</td>\n",
       "      <td>28.96</td>\n",
       "      <td>3.77</td>\n",
       "      <td>8.45</td>\n",
       "      <td>76</td>\n",
       "      <td>8.0</td>\n",
       "      <td>E</td>\n",
       "      <td>82.54</td>\n",
       "    </tr>\n",
       "    <tr>\n",
       "      <th>1</th>\n",
       "      <td>Super Mario Bros.</td>\n",
       "      <td>NES</td>\n",
       "      <td>1985</td>\n",
       "      <td>Platform</td>\n",
       "      <td>29.08</td>\n",
       "      <td>3.58</td>\n",
       "      <td>6.81</td>\n",
       "      <td>0.77</td>\n",
       "      <td>-1</td>\n",
       "      <td>-1.0</td>\n",
       "      <td>-1</td>\n",
       "      <td>40.24</td>\n",
       "    </tr>\n",
       "    <tr>\n",
       "      <th>2</th>\n",
       "      <td>Mario Kart Wii</td>\n",
       "      <td>Wii</td>\n",
       "      <td>2008</td>\n",
       "      <td>Racing</td>\n",
       "      <td>15.68</td>\n",
       "      <td>12.76</td>\n",
       "      <td>3.79</td>\n",
       "      <td>3.29</td>\n",
       "      <td>82</td>\n",
       "      <td>8.3</td>\n",
       "      <td>E</td>\n",
       "      <td>35.52</td>\n",
       "    </tr>\n",
       "    <tr>\n",
       "      <th>3</th>\n",
       "      <td>Wii Sports Resort</td>\n",
       "      <td>Wii</td>\n",
       "      <td>2009</td>\n",
       "      <td>Sports</td>\n",
       "      <td>15.61</td>\n",
       "      <td>10.93</td>\n",
       "      <td>3.28</td>\n",
       "      <td>2.95</td>\n",
       "      <td>80</td>\n",
       "      <td>8.0</td>\n",
       "      <td>E</td>\n",
       "      <td>32.77</td>\n",
       "    </tr>\n",
       "    <tr>\n",
       "      <th>4</th>\n",
       "      <td>Pokemon Red/Pokemon Blue</td>\n",
       "      <td>GB</td>\n",
       "      <td>1996</td>\n",
       "      <td>Role-Playing</td>\n",
       "      <td>11.27</td>\n",
       "      <td>8.89</td>\n",
       "      <td>10.22</td>\n",
       "      <td>1.00</td>\n",
       "      <td>-1</td>\n",
       "      <td>-1.0</td>\n",
       "      <td>-1</td>\n",
       "      <td>31.38</td>\n",
       "    </tr>\n",
       "  </tbody>\n",
       "</table>\n",
       "</div>"
      ],
      "text/plain": [
       "                       name platform  year_of_release         genre  na_sales  \\\n",
       "0                Wii Sports      Wii             2006        Sports     41.36   \n",
       "1         Super Mario Bros.      NES             1985      Platform     29.08   \n",
       "2            Mario Kart Wii      Wii             2008        Racing     15.68   \n",
       "3         Wii Sports Resort      Wii             2009        Sports     15.61   \n",
       "4  Pokemon Red/Pokemon Blue       GB             1996  Role-Playing     11.27   \n",
       "\n",
       "   eu_sales  jp_sales  other_sales  critic_score  user_score rating  all_sales  \n",
       "0     28.96      3.77         8.45            76         8.0      E      82.54  \n",
       "1      3.58      6.81         0.77            -1        -1.0     -1      40.24  \n",
       "2     12.76      3.79         3.29            82         8.3      E      35.52  \n",
       "3     10.93      3.28         2.95            80         8.0      E      32.77  \n",
       "4      8.89     10.22         1.00            -1        -1.0     -1      31.38  "
      ]
     },
     "execution_count": 26,
     "metadata": {},
     "output_type": "execute_result"
    }
   ],
   "source": [
    "data.head(5)"
   ]
  },
  {
   "cell_type": "markdown",
   "id": "30878858",
   "metadata": {},
   "source": [
    "### Вывод:\n",
    "В некоторых столбцах пропуски занимали **значительную** часть данных. Пример, столбец critic_score, там пропуски занимали 51 процент данных. Поэтому данные пропуски пришлось заменять заглушками, чтобы не потерять другие данные. В случае, если пропуски в столбце занимали **незначительную** часть, то мы просто отбрасывали их."
   ]
  },
  {
   "cell_type": "markdown",
   "id": "bdaa7963",
   "metadata": {},
   "source": [
    "## Проведите исследовательский анализ данных"
   ]
  },
  {
   "cell_type": "markdown",
   "id": "c484f5f7",
   "metadata": {},
   "source": [
    "- Посмотрите, сколько игр выпускалось в разные годы. Важны ли данные за все периоды?"
   ]
  },
  {
   "cell_type": "code",
   "execution_count": 27,
   "id": "c24b05a7",
   "metadata": {},
   "outputs": [
    {
     "data": {
      "text/plain": [
       "<AxesSubplot:title={'center':'Количество выпущенных игр в разные годы'}, xlabel='year_of_release'>"
      ]
     },
     "execution_count": 27,
     "metadata": {},
     "output_type": "execute_result"
    },
    {
     "data": {
      "image/png": "[encoded data removed]",
      "text/plain": [
       "<Figure size 720x720 with 1 Axes>"
      ]
     },
     "metadata": {
      "needs_background": "light"
     },
     "output_type": "display_data"
    }
   ],
   "source": [
    "year_pivot = data.pivot_table(index='year_of_release', values='name', aggfunc='count')\n",
    "year_pivot.plot(kind='bar', figsize=(10,10), legend=False, title='Количество выпущенных игр в разные годы')"
   ]
  },
  {
   "cell_type": "markdown",
   "id": "e3c6287a",
   "metadata": {},
   "source": [
    "Думаю, до 1997 года данные не важны, так как там выпускалось мало игр"
   ]
  },
  {
   "cell_type": "markdown",
   "id": "a4865c93",
   "metadata": {},
   "source": [
    "- Посмотрите, как менялись продажи по платформам. Выберите платформы с наибольшими суммарными продажами и постройте распределение по годам. За какой характерный срок появляются новые и исчезают старые платформы?"
   ]
  },
  {
   "cell_type": "code",
   "execution_count": 28,
   "id": "6b71fc3f",
   "metadata": {},
   "outputs": [
    {
     "data": {
      "text/plain": [
       "['PS2', 'X360', 'PS3', 'Wii', 'DS', 'PS', 'PS4', 'GBA', 'PSP', '3DS']"
      ]
     },
     "execution_count": 28,
     "metadata": {},
     "output_type": "execute_result"
    }
   ],
   "source": [
    "top_10_platform = data.pivot_table(index='platform', values='all_sales', aggfunc='sum')\n",
    "top_10_platform = list(top_10_platform.sort_values(by='all_sales', ascending=False).head(10).index)\n",
    "top_10_platform"
   ]
  },
  {
   "cell_type": "code",
   "execution_count": 29,
   "id": "cd24b42b",
   "metadata": {},
   "outputs": [
    {
     "data": {
      "image/png": "[encoded data removed]",
      "text/plain": [
       "<Figure size 1440x1440 with 10 Axes>"
      ]
     },
     "metadata": {
      "needs_background": "light"
     },
     "output_type": "display_data"
    }
   ],
   "source": [
    "platform_pivot = data.query('platform in @top_10_platform').\\\n",
    "    pivot_table(index='year_of_release', columns='platform', values='all_sales', aggfunc='sum')\n",
    "platform_pivot.plot(kind='line', figsize=(20, 20),\\\n",
    "    title='Распределение платформ с наибольшими суммарными продажами по годам', subplots=True);"
   ]
  },
  {
   "cell_type": "markdown",
   "id": "a65a2322",
   "metadata": {},
   "source": [
    "Если смотреть на разницу появления и исчезновения платформ ps(1, 2, 3) и ds(ds, 3ds), то получается, что за 3-5 лет появляются новые и исчезают старые платформы"
   ]
  },
  {
   "cell_type": "markdown",
   "id": "c76591e4",
   "metadata": {},
   "source": [
    "- Возьмите данные за соответствующий актуальный период. Актуальный период определите самостоятельно в результате исследования предыдущих вопросов. Основной фактор — эти данные помогут построить прогноз на 2017 год."
   ]
  },
  {
   "cell_type": "markdown",
   "id": "37c0e66b",
   "metadata": {},
   "source": [
    "Думаю, актуальны период взять с 2010 года, новые платформы появились через несколько лет после этого года, а предыдущие платформы, которые еще актуальны, имели пик в +- этот год."
   ]
  },
  {
   "cell_type": "code",
   "execution_count": 30,
   "id": "21e88d0a",
   "metadata": {},
   "outputs": [],
   "source": [
    "actual_data = data[data['year_of_release'] >= 2014]"
   ]
  },
  {
   "cell_type": "markdown",
   "id": "753b6534",
   "metadata": {},
   "source": [
    "- Не учитывайте в работе данные за предыдущие годы."
   ]
  },
  {
   "cell_type": "markdown",
   "id": "3cd08287",
   "metadata": {},
   "source": [
    "Этот пункт решен в предыдущем пункте"
   ]
  },
  {
   "cell_type": "markdown",
   "id": "58ae9d76",
   "metadata": {},
   "source": [
    "- Какие платформы лидируют по продажам, растут или падают? Выберите несколько потенциально прибыльных платформ."
   ]
  },
  {
   "cell_type": "code",
   "execution_count": 31,
   "id": "682e4525",
   "metadata": {
    "scrolled": true
   },
   "outputs": [
    {
     "data": {
      "image/png": "[encoded data removed]",
      "text/plain": [
       "<Figure size 360x360 with 1 Axes>"
      ]
     },
     "metadata": {
      "needs_background": "light"
     },
     "output_type": "display_data"
    },
    {
     "data": {
      "image/png": "[encoded data removed]",
      "text/plain": [
       "<Figure size 360x360 with 1 Axes>"
      ]
     },
     "metadata": {
      "needs_background": "light"
     },
     "output_type": "display_data"
    },
    {
     "data": {
      "image/png": "[encoded data removed]",
      "text/plain": [
       "<Figure size 360x360 with 1 Axes>"
      ]
     },
     "metadata": {
      "needs_background": "light"
     },
     "output_type": "display_data"
    },
    {
     "data": {
      "image/png": "[encoded data removed]",
      "text/plain": [
       "<Figure size 360x360 with 1 Axes>"
      ]
     },
     "metadata": {
      "needs_background": "light"
     },
     "output_type": "display_data"
    },
    {
     "data": {
      "image/png": "[encoded data removed]",
      "text/plain": [
       "<Figure size 360x360 with 1 Axes>"
      ]
     },
     "metadata": {
      "needs_background": "light"
     },
     "output_type": "display_data"
    },
    {
     "data": {
      "image/png": "[encoded data removed]",
      "text/plain": [
       "<Figure size 360x360 with 1 Axes>"
      ]
     },
     "metadata": {
      "needs_background": "light"
     },
     "output_type": "display_data"
    },
    {
     "data": {
      "image/png": "[encoded data removed]",
      "text/plain": [
       "<Figure size 360x360 with 1 Axes>"
      ]
     },
     "metadata": {
      "needs_background": "light"
     },
     "output_type": "display_data"
    },
    {
     "data": {
      "image/png": "[encoded data removed]",
      "text/plain": [
       "<Figure size 360x360 with 1 Axes>"
      ]
     },
     "metadata": {
      "needs_background": "light"
     },
     "output_type": "display_data"
    },
    {
     "data": {
      "image/png": "[encoded data removed]",
      "text/plain": [
       "<Figure size 360x360 with 1 Axes>"
      ]
     },
     "metadata": {
      "needs_background": "light"
     },
     "output_type": "display_data"
    },
    {
     "data": {
      "image/png": "[encoded data removed]",
      "text/plain": [
       "<Figure size 360x360 with 1 Axes>"
      ]
     },
     "metadata": {
      "needs_background": "light"
     },
     "output_type": "display_data"
    }
   ],
   "source": [
    "year_values = [2014, 2015, 2016]\n",
    "platform_list = list(actual_data.platform.unique())\n",
    "for platform in platform_list:\n",
    "    actual_data.query('platform == @platform').pivot_table(index='year_of_release', values='all_sales', aggfunc='sum')\\\n",
    "        .plot(kind='line', figsize=(5,5), title=f\"Продажи на платформе {platform}\", legend=False, xticks=year_values, ylim=(0, 175))\n",
    "    plt.show()"
   ]
  },
  {
   "cell_type": "markdown",
   "id": "c3461a04",
   "metadata": {},
   "source": [
    "1. X360 - продажи падают\n",
    "2. PS3 - продажи падают\n",
    "3. PS4 - продажи только начали падать, еще года 2-3 продержутся скорее всего\n",
    "4. 3DS - продажи падают\n",
    "5. Wii - продаж практически нет на 2016 год\n",
    "6. Xone - то же, как у PS4, только у PS4 продаж больше\n",
    "7. WiiU - не очень большие продажи, продаж на конец 2016 года также нет\n",
    "8. PC - универсальная платформа я бы сказал, будет актуально всегда, продажи то спадают, то поднимаются\n",
    "9. Psp - продажи прекратились\n",
    "10. PSV - не сильно большие продажи.\n",
    "\n",
    "Потенциально прибыльные - Xone, PS4; возможно: PC, PSV"
   ]
  },
  {
   "cell_type": "markdown",
   "id": "6dded766",
   "metadata": {},
   "source": [
    "- Постройте график «ящик с усами» по глобальным продажам игр в разбивке по платформам. Опишите результат."
   ]
  },
  {
   "cell_type": "code",
   "execution_count": 32,
   "id": "0a8febeb",
   "metadata": {
    "scrolled": false
   },
   "outputs": [
    {
     "data": {
      "text/plain": [
       "<AxesSubplot:>"
      ]
     },
     "execution_count": 32,
     "metadata": {},
     "output_type": "execute_result"
    },
    {
     "data": {
      "image/png": "[encoded data removed]",
      "text/plain": [
       "<Figure size 1224x720 with 1 Axes>"
      ]
     },
     "metadata": {
      "needs_background": "light"
     },
     "output_type": "display_data"
    }
   ],
   "source": [
    "actual_data.groupby('platform').boxplot(figsize=(17,10), column='all_sales', subplots=False, rot=45)"
   ]
  },
  {
   "cell_type": "markdown",
   "id": "e505f1fd",
   "metadata": {},
   "source": [
    "В глобальных продажах на всех платформах присутствуют выбросы, и выбросы эти больше границы верхнего \"уса\".  \n",
    "Большниство глобальных продаж не достигают значений в размере 2.5 млн."
   ]
  },
  {
   "cell_type": "code",
   "execution_count": 33,
   "id": "d0c5cdbd",
   "metadata": {
    "scrolled": false
   },
   "outputs": [
    {
     "data": {
      "image/png": "[encoded data removed]",
      "text/plain": [
       "<Figure size 1224x792 with 1 Axes>"
      ]
     },
     "metadata": {
      "needs_background": "light"
     },
     "output_type": "display_data"
    }
   ],
   "source": [
    "# код ревьюера\n",
    "\n",
    "import seaborn as sns\n",
    "\n",
    "plt.figure(figsize=(17, 11))\n",
    "sns.boxplot(data=actual_data, y='platform', x='all_sales')\n",
    "plt.xlim(-0.1, 5)\n",
    "\n",
    "plt.title('Объемы продаж игр на разных платформах', size=17)\n",
    "plt.xlabel('Объем продаж', size=12)\n",
    "plt.ylabel('Название платформы', size=12)\n",
    "\n",
    "plt.show()"
   ]
  },
  {
   "cell_type": "markdown",
   "id": "1360a18b",
   "metadata": {},
   "source": [
    "- Посмотрите, как влияют на продажи внутри одной популярной платформы отзывы пользователей и критиков. Постройте диаграмму рассеяния и посчитайте корреляцию между отзывами и продажами. Сформулируйте выводы."
   ]
  },
  {
   "cell_type": "markdown",
   "id": "2b188329",
   "metadata": {},
   "source": [
    "Возьмем популярную платформу PS4, и отсеим заглушки, которые мы вводили ранее."
   ]
  },
  {
   "cell_type": "code",
   "execution_count": 34,
   "id": "d5b1e9a1",
   "metadata": {},
   "outputs": [],
   "source": [
    "ps4_actual_data = actual_data.query(\"platform == 'PS4'\")"
   ]
  },
  {
   "cell_type": "code",
   "execution_count": 35,
   "id": "bb519430",
   "metadata": {
    "scrolled": true
   },
   "outputs": [
    {
     "name": "stdout",
     "output_type": "stream",
     "text": [
      "234\n",
      "237\n",
      "242\n"
     ]
    }
   ],
   "source": [
    "# код ревьюера\n",
    "\n",
    "print(actual_data.query(\"platform == 'PS4' and critic_score != -1 and user_score not in [-1, -2]\").shape[0])\n",
    "print(actual_data.query(\"platform == 'PS4' and critic_score != -1\").shape[0])\n",
    "print(actual_data.query(\"platform == 'PS4' and user_score not in [-1, -2]\").shape[0])"
   ]
  },
  {
   "cell_type": "code",
   "execution_count": 36,
   "id": "3899a293",
   "metadata": {},
   "outputs": [
    {
     "data": {
      "image/png": "[encoded data removed]",
      "text/plain": [
       "<Figure size 432x288 with 1 Axes>"
      ]
     },
     "metadata": {
      "needs_background": "light"
     },
     "output_type": "display_data"
    }
   ],
   "source": [
    "ps4_actual_user_data = ps4_actual_data.query(\"user_score not in [-1, -2]\")\n",
    "ps4_actual_user_data.plot(kind='scatter', x='user_score', y='all_sales', title='Диаграмма рассеяния(отзывы пользователей и продажи)');"
   ]
  },
  {
   "cell_type": "code",
   "execution_count": 37,
   "id": "7b2d201c",
   "metadata": {},
   "outputs": [
    {
     "data": {
      "text/plain": [
       "-0.040131589472697356"
      ]
     },
     "execution_count": 37,
     "metadata": {},
     "output_type": "execute_result"
    }
   ],
   "source": [
    "ps4_actual_user_data['all_sales'].corr(ps4_actual_user_data['user_score'])"
   ]
  },
  {
   "cell_type": "markdown",
   "id": "567f5ef9",
   "metadata": {},
   "source": [
    "Корреляция между отзывами пользователей и продажами нет, на графике никакой зависимости не видно"
   ]
  },
  {
   "cell_type": "code",
   "execution_count": 38,
   "id": "c93beccb",
   "metadata": {},
   "outputs": [
    {
     "data": {
      "image/png": "[encoded data removed]",
      "text/plain": [
       "<Figure size 432x288 with 1 Axes>"
      ]
     },
     "metadata": {
      "needs_background": "light"
     },
     "output_type": "display_data"
    }
   ],
   "source": [
    "ps4_actual_critic_data = ps4_actual_data.query(\"critic_score != -1\")\n",
    "ps4_actual_critic_data.plot(kind='scatter', x='critic_score', y='all_sales', title='Диаграмма рассеяния(отзывы критиков и продажи)');"
   ]
  },
  {
   "cell_type": "code",
   "execution_count": 39,
   "id": "eb8d63ca",
   "metadata": {},
   "outputs": [
    {
     "data": {
      "text/plain": [
       "0.40266141068104083"
      ]
     },
     "execution_count": 39,
     "metadata": {},
     "output_type": "execute_result"
    }
   ],
   "source": [
    "ps4_actual_critic_data['all_sales'].corr(ps4_actual_critic_data['critic_score'])"
   ]
  },
  {
   "cell_type": "markdown",
   "id": "a6ac0a72",
   "metadata": {},
   "source": [
    "**Вывод**:\n",
    "Корреляция между отзывами критиков и продажами слабая, на графике трудно увидеть зависимостью"
   ]
  },
  {
   "cell_type": "markdown",
   "id": "11d0429e",
   "metadata": {},
   "source": [
    "- Соотнесите выводы с продажами игр на других платформах."
   ]
  },
  {
   "cell_type": "markdown",
   "id": "ae2c9538",
   "metadata": {},
   "source": [
    "На других платформах будет аналогичная ситуация: оценки ползователей не будут влиять на продажи, а оценки критиков будут иметь слабую корреляцию или практически не иметь ее с теми же продажами. "
   ]
  },
  {
   "cell_type": "markdown",
   "id": "064d8553",
   "metadata": {},
   "source": [
    "Пример:  \n",
    "- Платформа XOne"
   ]
  },
  {
   "cell_type": "code",
   "execution_count": 40,
   "id": "3f9ffc7e",
   "metadata": {
    "scrolled": false
   },
   "outputs": [
    {
     "data": {
      "image/png": "[encoded data removed]",
      "text/plain": [
       "<Figure size 432x288 with 1 Axes>"
      ]
     },
     "metadata": {
      "needs_background": "light"
     },
     "output_type": "display_data"
    }
   ],
   "source": [
    "xone_actual_user_data = actual_data.query(\"platform == 'XOne' and user_score not in [-1, -2]\")\n",
    "xone_actual_user_data.plot(kind='scatter', x='user_score', y='all_sales', title='Диаграмма рассеяния(отзывы пользователей и продажи) Xone');"
   ]
  },
  {
   "cell_type": "code",
   "execution_count": 41,
   "id": "44a4dd6a",
   "metadata": {},
   "outputs": [
    {
     "data": {
      "text/plain": [
       "-0.0703839280647581"
      ]
     },
     "execution_count": 41,
     "metadata": {},
     "output_type": "execute_result"
    }
   ],
   "source": [
    "xone_actual_user_data['all_sales'].corr(xone_actual_user_data['user_score'])"
   ]
  },
  {
   "cell_type": "code",
   "execution_count": 42,
   "id": "b1dbf425",
   "metadata": {},
   "outputs": [
    {
     "data": {
      "image/png": "[encoded data removed]",
      "text/plain": [
       "<Figure size 432x288 with 1 Axes>"
      ]
     },
     "metadata": {
      "needs_background": "light"
     },
     "output_type": "display_data"
    }
   ],
   "source": [
    "xone_actual_critic_data = actual_data.query(\"platform == 'XOne' and critic_score != -1\")\n",
    "xone_actual_critic_data.plot(kind='scatter', x='critic_score', y='all_sales', title='Диаграмма рассеяния(отзывы критиков и продажи) XOne');"
   ]
  },
  {
   "cell_type": "code",
   "execution_count": 43,
   "id": "721c29d8",
   "metadata": {},
   "outputs": [
    {
     "data": {
      "text/plain": [
       "0.42867694370333226"
      ]
     },
     "execution_count": 43,
     "metadata": {},
     "output_type": "execute_result"
    }
   ],
   "source": [
    "xone_actual_critic_data['all_sales'].corr(xone_actual_critic_data['critic_score'])"
   ]
  },
  {
   "cell_type": "markdown",
   "id": "441384b2",
   "metadata": {},
   "source": [
    "- Платформа PC"
   ]
  },
  {
   "cell_type": "code",
   "execution_count": 44,
   "id": "68480fab",
   "metadata": {},
   "outputs": [
    {
     "data": {
      "image/png": "[encoded data removed]",
      "text/plain": [
       "<Figure size 432x288 with 1 Axes>"
      ]
     },
     "metadata": {
      "needs_background": "light"
     },
     "output_type": "display_data"
    }
   ],
   "source": [
    "pc_actual_user_data = actual_data.query(\"platform == 'PC' and user_score not in [-1, -2]\")\n",
    "pc_actual_user_data.plot(kind='scatter', x='user_score', y='all_sales', title='Диаграмма рассеяния(отзывы пользователей и продажи) PC');"
   ]
  },
  {
   "cell_type": "code",
   "execution_count": 45,
   "id": "94ea005b",
   "metadata": {},
   "outputs": [
    {
     "data": {
      "text/plain": [
       "-0.07159665703472452"
      ]
     },
     "execution_count": 45,
     "metadata": {},
     "output_type": "execute_result"
    }
   ],
   "source": [
    "pc_actual_user_data['all_sales'].corr(pc_actual_user_data['user_score'])"
   ]
  },
  {
   "cell_type": "code",
   "execution_count": 46,
   "id": "77e712e2",
   "metadata": {},
   "outputs": [
    {
     "data": {
      "image/png": "[encoded data removed]",
      "text/plain": [
       "<Figure size 432x288 with 1 Axes>"
      ]
     },
     "metadata": {
      "needs_background": "light"
     },
     "output_type": "display_data"
    }
   ],
   "source": [
    "pc_actual_critic_data = actual_data.query(\"platform == 'PC' and critic_score != -1\")\n",
    "pc_actual_critic_data.plot(kind='scatter', x='critic_score', y='all_sales', title='Диаграмма рассеяния(отзывы критиков и продажи) PC');"
   ]
  },
  {
   "cell_type": "code",
   "execution_count": 47,
   "id": "87b7d3d6",
   "metadata": {},
   "outputs": [
    {
     "data": {
      "text/plain": [
       "0.17463413769350036"
      ]
     },
     "execution_count": 47,
     "metadata": {},
     "output_type": "execute_result"
    }
   ],
   "source": [
    "pc_actual_critic_data['all_sales'].corr(pc_actual_critic_data['critic_score'])"
   ]
  },
  {
   "cell_type": "markdown",
   "id": "2bac02e3",
   "metadata": {},
   "source": [
    "- Посмотрите на общее распределение игр по жанрам. Что можно сказать о самых прибыльных жанрах? Выделяются ли жанры с высокими и низкими продажами?"
   ]
  },
  {
   "cell_type": "code",
   "execution_count": 48,
   "id": "9d7cd675",
   "metadata": {},
   "outputs": [
    {
     "data": {
      "text/plain": [
       "<AxesSubplot:title={'center':'Продажи на одну игру в жанре'}, xlabel='Жанры'>"
      ]
     },
     "execution_count": 48,
     "metadata": {},
     "output_type": "execute_result"
    },
    {
     "data": {
      "image/png": "[encoded data removed]",
      "text/plain": [
       "<Figure size 432x288 with 1 Axes>"
      ]
     },
     "metadata": {
      "needs_background": "light"
     },
     "output_type": "display_data"
    }
   ],
   "source": [
    "genre_grouped = actual_data.groupby('genre').agg(count_games=('name', 'count'), all_sales=('all_sales', 'sum'))\n",
    "#находим количество продаж на одну игру в жанре\n",
    "genre_grouped['sale_to_game'] = genre_grouped['all_sales'] /  genre_grouped['count_games']\n",
    "genre_grouped['sale_to_game'].sort_values().plot(kind='bar', title='Продажи на одну игру в жанре', xlabel='Жанры')"
   ]
  },
  {
   "cell_type": "markdown",
   "id": "03219640",
   "metadata": {},
   "source": [
    "Шутеры - жанр с высокими продажами  \n",
    "Приключения - жанр с низкими продажами"
   ]
  },
  {
   "cell_type": "markdown",
   "id": "86f575f9",
   "metadata": {},
   "source": [
    "## Составьте портрет пользователя каждого региона"
   ]
  },
  {
   "cell_type": "code",
   "execution_count": 49,
   "id": "3c34e9e2",
   "metadata": {},
   "outputs": [],
   "source": [
    "columns = {'NA': 'na_sales', 'EU': 'eu_sales', 'JP': 'jp_sales'}"
   ]
  },
  {
   "cell_type": "markdown",
   "id": "e6c6c4e8",
   "metadata": {},
   "source": [
    "- Самые популярные платформы (топ-5)"
   ]
  },
  {
   "cell_type": "code",
   "execution_count": 50,
   "id": "dfc7244d",
   "metadata": {
    "scrolled": false
   },
   "outputs": [
    {
     "data": {
      "image/png": "[encoded data removed]",
      "text/plain": [
       "<Figure size 432x288 with 1 Axes>"
      ]
     },
     "metadata": {},
     "output_type": "display_data"
    },
    {
     "data": {
      "image/png": "[encoded data removed]",
      "text/plain": [
       "<Figure size 432x288 with 1 Axes>"
      ]
     },
     "metadata": {},
     "output_type": "display_data"
    },
    {
     "data": {
      "image/png": "[encoded data removed]",
      "text/plain": [
       "<Figure size 432x288 with 1 Axes>"
      ]
     },
     "metadata": {},
     "output_type": "display_data"
    }
   ],
   "source": [
    "def autopct(pct):\n",
    "    return ('%.2f' % pct)\n",
    "\n",
    "for region, column in columns.items():\n",
    "    actual_data.groupby('platform')[column].sum().sort_values(ascending=False).head(5).\\\n",
    "    plot(kind='pie', title=f'Топ 5 платформ в {region}', ylabel=' ', autopct=autopct)\n",
    "    plt.show()"
   ]
  },
  {
   "cell_type": "markdown",
   "id": "acd671c9",
   "metadata": {},
   "source": [
    "**NA**:  \n",
    "\n",
    "Приставки серии PS имеют первое место по популярности в Северной Америке, скорее всего из-за качества игр и эксклюзивов на данную платформу.    \n",
    "Microsoft имеет расположение в Америке, и скорее всего из-за этого приставки серии Xbox расположились по популярности на втором месте.\n",
    "\n",
    "**EU**:  \n",
    "\n",
    "Консоли серии PS - явные лидеры в этом регионе. Возможной причиной,как и в Северной Америке, может быть отличные эксклюзивные игры.  \n",
    "Дальше идут XOne, PC, WII\n",
    "\n",
    "**JP**:  \n",
    "\n",
    "Ну, японцы вроде любят в покемончиков🙂 и тому подобное поиграть, а DS легкая консоль, вот и покупают его)  \n",
    "DS была выпущена в Канаде, США и Японии. Но видимо, в США и Канаде не очень прижилась.  \n",
    "Консоли серии PS - комания SONY расположена в Японии, скорее всего из-за этого у него тоже есть популярность в Японии, ну и опять же, отличное качество игр и эксклюзивные игры."
   ]
  },
  {
   "cell_type": "markdown",
   "id": "f7269af5",
   "metadata": {},
   "source": [
    "- Самые популярные жанры (топ-5)."
   ]
  },
  {
   "cell_type": "code",
   "execution_count": 51,
   "id": "83bd0728",
   "metadata": {},
   "outputs": [
    {
     "data": {
      "image/png": "[encoded data removed]",
      "text/plain": [
       "<Figure size 432x288 with 1 Axes>"
      ]
     },
     "metadata": {},
     "output_type": "display_data"
    },
    {
     "data": {
      "image/png": "[encoded data removed]",
      "text/plain": [
       "<Figure size 432x288 with 1 Axes>"
      ]
     },
     "metadata": {},
     "output_type": "display_data"
    },
    {
     "data": {
      "image/png": "[encoded data removed]",
      "text/plain": [
       "<Figure size 432x288 with 1 Axes>"
      ]
     },
     "metadata": {},
     "output_type": "display_data"
    }
   ],
   "source": [
    "for region, column in columns.items():\n",
    "    actual_data.groupby('genre')[column].sum().sort_values(ascending=False).head(5).\\\n",
    "    plot(kind='pie', title=f'Топ 5 жанров в {region}', ylabel=' ', autopct=autopct)\n",
    "    plt.show()"
   ]
  },
  {
   "cell_type": "markdown",
   "id": "ac0dc197",
   "metadata": {},
   "source": [
    "**NA** и **EU** практически не отличаются, и там и там лидируют игры жанра Action и Shooter. Отличие лишь в последних местах, но и то это отличием назвать нельзя, так как misc это прочие жанры.\n",
    "Возможно большинство игр на консоли серии ps и xbox имеют формат action, shooter и тд, поэтому эти жанры популярны\n",
    "\n",
    "**JP**:\n",
    "В силу любви к персонажам из покемончиков и тд, Японцы наверно предпочитают role play игры. Популярность приставки ps и от части ds возможно повлияла на популярность жанра action и shooter.\n"
   ]
  },
  {
   "cell_type": "markdown",
   "id": "cab4d3ed",
   "metadata": {},
   "source": [
    "- Влияет ли рейтинг ESRB на продажи в отдельном регионе?"
   ]
  },
  {
   "cell_type": "code",
   "execution_count": 52,
   "id": "e0089954",
   "metadata": {},
   "outputs": [
    {
     "data": {
      "image/png": "[encoded data removed]",
      "text/plain": [
       "<Figure size 432x288 with 1 Axes>"
      ]
     },
     "metadata": {
      "needs_background": "light"
     },
     "output_type": "display_data"
    }
   ],
   "source": [
    "actual_data.groupby('rating').agg(\n",
    "    na_sales=('na_sales', 'sum'),\n",
    "    eu_sales=('eu_sales', 'sum'),\n",
    "    jp_sales=('jp_sales', 'sum')\n",
    "        ).plot(kind='bar');"
   ]
  },
  {
   "cell_type": "markdown",
   "id": "89ea65f4",
   "metadata": {},
   "source": [
    "Наврено влияют, рассмотрим **северную америку** и **европу**:  \n",
    "\n",
    "Рейтинг **\"M\"** имеет больше продаж, наверно потому, что взрослые(mature) имеет куда больше денег, чем дети.  \n",
    "На втором месте расположился по продажам рейтинг, который был пропущен в данных.  \n",
    "Далее по продажам идет рейтинг **\"E\"**(everyone).  \n",
    "Следом идут рейтинги **T** и **E10+**     \n",
    "\n",
    "А вот в **Японии** ситуация отличается:  \n",
    "\n",
    "Особо то и не заметно, что рейтинг влияет на продажи. Рейтинги **E, E10+, M** держутся на примерно одном уровне.  \n",
    "Чуть выше их уровня расположился рейтинг **T**.  \n",
    "А самое большое количество продаж имеет рейтинг, который был пропущен в данных.  \n"
   ]
  },
  {
   "cell_type": "markdown",
   "id": "03c1e453",
   "metadata": {},
   "source": [
    "## Проверьте гипотезы"
   ]
  },
  {
   "cell_type": "code",
   "execution_count": 53,
   "id": "29ca14fa",
   "metadata": {},
   "outputs": [],
   "source": [
    "alpha = 0.05"
   ]
  },
  {
   "cell_type": "code",
   "execution_count": 54,
   "id": "add755d3",
   "metadata": {},
   "outputs": [],
   "source": [
    "actual_data = actual_data.query('user_score not in [-1, -2]')"
   ]
  },
  {
   "cell_type": "code",
   "execution_count": 55,
   "id": "0efde7f7",
   "metadata": {},
   "outputs": [
    {
     "data": {
      "text/plain": [
       "array(['PS4', 'WiiU', 'XOne', 'PS3', 'X360', '3DS', 'PC', 'Wii', 'PSV'],\n",
       "      dtype=object)"
      ]
     },
     "execution_count": 55,
     "metadata": {},
     "output_type": "execute_result"
    }
   ],
   "source": [
    "actual_data.platform.unique()"
   ]
  },
  {
   "cell_type": "markdown",
   "id": "03ed6f28",
   "metadata": {},
   "source": [
    "- Средние пользовательские рейтинги платформ Xbox One и PC одинаковые;\n",
    "\n",
    "H0: Средний пользовательский рейтинг платформ Xbox One = Средний пользовательский рейтинг платформ PC  \n",
    "H1: Средний пользовательский рейтинг платформ Xbox One ≠ Средний пользовательский рейтинг платформ PC  "
   ]
  },
  {
   "cell_type": "code",
   "execution_count": 56,
   "id": "55d775d7",
   "metadata": {
    "scrolled": true
   },
   "outputs": [
    {
     "name": "stdout",
     "output_type": "stream",
     "text": [
      "0.11601398086668832\n",
      "Не получилось отвергнуть нулевую гипотезу \n"
     ]
    }
   ],
   "source": [
    "xone_actual_data = actual_data[actual_data['platform'] == 'XOne']['user_score']\n",
    "pc_actual_data = actual_data[actual_data['platform'] == 'PC']['user_score']\n",
    "\n",
    "results = st.ttest_ind(xone_actual_data, pc_actual_data, equal_var = False)\n",
    "\n",
    "print(results.pvalue)\n",
    "\n",
    "if results.pvalue < alpha:\n",
    "    print('Отвергаем нулевую гипотезу')\n",
    "else:\n",
    "    print('Не получилось отвергнуть нулевую гипотезу ')"
   ]
  },
  {
   "cell_type": "markdown",
   "id": "d56ea9ee",
   "metadata": {},
   "source": [
    "**Вывод**:<br>    \n",
    "С уровнем значимости в 5 процентов мы принимаем первую гипотезу, то есть средний пользовательский рейтинг платформ Xbox One одинаков со средним пользовательским рейтингом платформ PC"
   ]
  },
  {
   "cell_type": "markdown",
   "id": "9035fea4",
   "metadata": {},
   "source": [
    "- Средние пользовательские рейтинги жанров Action (англ. «действие», экшен-игры) и Sports (англ. «спортивные соревнования») разные.\n",
    "\n",
    "H0: Средний пользовательский рейтинг жанра Action = Средний пользовательский рейтинг жанра Sports  \n",
    "H1: Средний пользовательский рейтинг жанра Action ≠ Средний пользовательский рейтинг жанра Sports"
   ]
  },
  {
   "cell_type": "code",
   "execution_count": 57,
   "id": "1689af08",
   "metadata": {},
   "outputs": [
    {
     "name": "stdout",
     "output_type": "stream",
     "text": [
      "1.1825550382644557e-14\n",
      "Отвергаем нулевую гипотезу\n"
     ]
    }
   ],
   "source": [
    "action_actual_data = actual_data[actual_data['genre'] == 'Action']['user_score']\n",
    "sports_actual_data = actual_data[actual_data['genre'] == 'Sports']['user_score']\n",
    "\n",
    "results = st.ttest_ind(action_actual_data, sports_actual_data, equal_var = False)\n",
    "\n",
    "print(results.pvalue)\n",
    "\n",
    "if results.pvalue < alpha:\n",
    "    print('Отвергаем нулевую гипотезу')\n",
    "else:\n",
    "    print('Не получилось отвергнуть нулевую гипотезу ')"
   ]
  },
  {
   "cell_type": "markdown",
   "id": "914d772d",
   "metadata": {},
   "source": [
    "**Вывод**:<br>    \n",
    "С уровнем значимости в 5 процентов мы отвергаем нулевую гипотезу, поэтому средний пользовательский рейтинг жанра Action отличается от среднего пользовательского рейтинга жанра Sports"
   ]
  },
  {
   "cell_type": "markdown",
   "id": "a95f3670",
   "metadata": {},
   "source": [
    "- Как вы сформулировали нулевую и альтернативную гипотезы?\n",
    "\n",
    "Сравниваем между собой генеральные средние двух выборок. В первом случае они должны быть равны, а во втором нет. И там и там проверяем двухсторонние гипотезы, чтобы не усложнять)"
   ]
  },
  {
   "cell_type": "markdown",
   "id": "cba4d0d5",
   "metadata": {},
   "source": [
    "- Какой критерий применили для проверки гипотез и почему?\n",
    "\n",
    "T-критерий Стьюдента. Если значений в выборке много, то распределение стьюдента близко к нормальному, поэтому мы взяли этот критерий."
   ]
  },
  {
   "cell_type": "markdown",
   "id": "9aa8c4d3",
   "metadata": {},
   "source": [
    "## Вывод"
   ]
  },
  {
   "cell_type": "markdown",
   "id": "57fb2b99",
   "metadata": {},
   "source": [
    "### Данные\n",
    "\n",
    "Рекомендации: \n",
    "- Следует уменьшить кол-во пропусков в данных, максимальная их доля была **51** процентов.\n",
    "- Присутствовали выбросы(значения не в пределах нормы) во многих столбцах, надо исправить \n",
    "\n",
    "Предобработка:  \n",
    "- Заглушки на **user_score**(-1 для nan, -2 для tbd), **critic_score**(-1 для nan), **rating**(\"-1\" для nan), в других столбцах были удалены, если были  \n",
    "- Столбцы изменены на правильные название и в некоторых изменены типы\n",
    "- Добавлен столбец all_sales для всех продаж по всем регионам  "
   ]
  },
  {
   "cell_type": "markdown",
   "id": "7fa1a139",
   "metadata": {},
   "source": [
    "### Исследования\n",
    "\n",
    "- **потенциально прибыльные платформы**:\n",
    "\n",
    "Рассмотрев графики, можно сказать, что новые серии консолей ps и xbox, а именно PS4 и Xbox One, являются потенциально прибыльными платформами. Продажи по этим платформам еще идут в хорошем темпе. Лучший из них PS4. Также можно обратить внимание и на платформу PC\n",
    "\n",
    "- **влияние отзывов пользователей и критиков**:\n",
    "\n",
    "Отзывы пользователей совсем не влияют на продажи, корреляция **отсутствует**  \n",
    "Отзывы критиков влияют не так сильно, корреляция **40.3 %** для платформы **PS4**, для других может быть и меньше\n",
    "\n",
    "- **Жанры**:\n",
    "\n",
    "Шутеры, спортивные, платформеры, fighting, role play, гоночные игры - имеют хорошие продажи\n",
    "\n",
    "- **Регионы**  \n",
    "    - **EU**: Консоли серии **PS** - явные лидеры в этом регионе. Лидируют игры жанра **Action, Shooter, Sports**\n",
    "    - **NA**: Консоли серии **PS** более популярны там. Лидируют игры жанра **Shooter, Action, Sports**\n",
    "    - **JP**: Консоли серии **DS** более популярны там, но серия **PS** тоже идет наравне в с ним. Лидируют жанры **Role Play, Action, Fighting**\n",
    "    \n",
    "    \n",
    "- **Гипотезы**:\n",
    "\n",
    "Подтвердилась гипотеза, что средние пользовательские рейтинги платформ Xbox One и PC одинаковые.  \n",
    "И также подтвердилось, что средние пользовательские рейтинги жанров Action и Sports разные."
   ]
  }
 ],
 "metadata": {
  "ExecuteTimeLog": [
   {
    "duration": 1075,
    "start_time": "2022-12-21T14:39:51.155Z"
   },
   {
    "duration": 221,
    "start_time": "2022-12-21T14:39:52.232Z"
   },
   {
    "duration": 2,
    "start_time": "2022-12-21T14:39:52.455Z"
   },
   {
    "duration": 47,
    "start_time": "2022-12-21T14:39:52.459Z"
   },
   {
    "duration": 48,
    "start_time": "2022-12-21T14:39:52.507Z"
   },
   {
    "duration": 1303,
    "start_time": "2022-12-21T14:39:52.557Z"
   },
   {
    "duration": 4,
    "start_time": "2022-12-21T14:39:53.861Z"
   },
   {
    "duration": 18,
    "start_time": "2022-12-21T14:39:53.866Z"
   },
   {
    "duration": 13,
    "start_time": "2022-12-21T14:39:53.886Z"
   },
   {
    "duration": 18,
    "start_time": "2022-12-21T14:39:53.902Z"
   },
   {
    "duration": 10,
    "start_time": "2022-12-21T14:39:53.922Z"
   },
   {
    "duration": 144,
    "start_time": "2022-12-21T14:39:53.935Z"
   },
   {
    "duration": 10,
    "start_time": "2022-12-21T14:39:54.081Z"
   },
   {
    "duration": 31,
    "start_time": "2022-12-21T14:39:54.093Z"
   },
   {
    "duration": 3,
    "start_time": "2022-12-21T14:39:54.126Z"
   },
   {
    "duration": 11,
    "start_time": "2022-12-21T14:39:54.130Z"
   },
   {
    "duration": 12,
    "start_time": "2022-12-21T14:39:54.143Z"
   },
   {
    "duration": 11,
    "start_time": "2022-12-21T14:39:54.157Z"
   },
   {
    "duration": 11,
    "start_time": "2022-12-21T14:39:54.169Z"
   },
   {
    "duration": 11,
    "start_time": "2022-12-21T14:39:54.182Z"
   },
   {
    "duration": 26,
    "start_time": "2022-12-21T14:39:54.194Z"
   },
   {
    "duration": 18,
    "start_time": "2022-12-21T14:39:54.222Z"
   },
   {
    "duration": 10,
    "start_time": "2022-12-21T14:39:54.241Z"
   },
   {
    "duration": 14,
    "start_time": "2022-12-21T14:39:54.253Z"
   },
   {
    "duration": 11,
    "start_time": "2022-12-21T14:39:54.268Z"
   },
   {
    "duration": 36,
    "start_time": "2022-12-21T14:39:54.280Z"
   },
   {
    "duration": 342,
    "start_time": "2022-12-21T14:39:54.317Z"
   },
   {
    "duration": 20,
    "start_time": "2022-12-21T14:39:54.663Z"
   },
   {
    "duration": 1199,
    "start_time": "2022-12-21T14:39:54.685Z"
   },
   {
    "duration": 5,
    "start_time": "2022-12-21T14:39:55.886Z"
   },
   {
    "duration": 2003,
    "start_time": "2022-12-21T14:39:55.893Z"
   },
   {
    "duration": 353,
    "start_time": "2022-12-21T14:39:57.898Z"
   },
   {
    "duration": 7,
    "start_time": "2022-12-21T14:39:58.253Z"
   },
   {
    "duration": 158,
    "start_time": "2022-12-21T14:39:58.261Z"
   },
   {
    "duration": 5,
    "start_time": "2022-12-21T14:39:58.421Z"
   },
   {
    "duration": 159,
    "start_time": "2022-12-21T14:39:58.428Z"
   },
   {
    "duration": 6,
    "start_time": "2022-12-21T14:39:58.589Z"
   },
   {
    "duration": 272,
    "start_time": "2022-12-21T14:39:58.597Z"
   },
   {
    "duration": 7,
    "start_time": "2022-12-21T14:39:58.871Z"
   },
   {
    "duration": 309,
    "start_time": "2022-12-21T14:39:58.879Z"
   },
   {
    "duration": 322,
    "start_time": "2022-12-21T14:39:59.189Z"
   },
   {
    "duration": 206,
    "start_time": "2022-12-21T14:39:59.513Z"
   },
   {
    "duration": 2,
    "start_time": "2022-12-21T14:39:59.721Z"
   },
   {
    "duration": 9,
    "start_time": "2022-12-21T14:39:59.726Z"
   },
   {
    "duration": 5,
    "start_time": "2022-12-21T14:39:59.737Z"
   },
   {
    "duration": 14,
    "start_time": "2022-12-21T14:39:59.744Z"
   },
   {
    "duration": 27,
    "start_time": "2022-12-21T14:39:59.760Z"
   },
   {
    "duration": 101,
    "start_time": "2022-12-21T14:50:42.539Z"
   },
   {
    "duration": 445,
    "start_time": "2022-12-21T14:50:56.963Z"
   },
   {
    "duration": 15,
    "start_time": "2022-12-21T14:51:54.550Z"
   },
   {
    "duration": 30,
    "start_time": "2022-12-21T14:58:13.876Z"
   },
   {
    "duration": 1149,
    "start_time": "2022-12-21T14:59:58.261Z"
   },
   {
    "duration": 267,
    "start_time": "2022-12-21T14:59:59.412Z"
   },
   {
    "duration": 4,
    "start_time": "2022-12-21T14:59:59.681Z"
   },
   {
    "duration": 23,
    "start_time": "2022-12-21T14:59:59.688Z"
   },
   {
    "duration": 38,
    "start_time": "2022-12-21T14:59:59.713Z"
   },
   {
    "duration": 1407,
    "start_time": "2022-12-21T14:59:59.753Z"
   },
   {
    "duration": 4,
    "start_time": "2022-12-21T15:00:01.163Z"
   },
   {
    "duration": 100,
    "start_time": "2022-12-21T15:00:01.168Z"
   },
   {
    "duration": 16,
    "start_time": "2022-12-21T15:00:01.270Z"
   },
   {
    "duration": 31,
    "start_time": "2022-12-21T15:00:01.290Z"
   },
   {
    "duration": 141,
    "start_time": "2022-12-21T15:00:01.323Z"
   },
   {
    "duration": 117,
    "start_time": "2022-12-21T15:00:01.466Z"
   },
   {
    "duration": 141,
    "start_time": "2022-12-21T15:00:01.584Z"
   },
   {
    "duration": 65,
    "start_time": "2022-12-21T15:00:01.728Z"
   },
   {
    "duration": 47,
    "start_time": "2022-12-21T15:00:01.795Z"
   },
   {
    "duration": 25,
    "start_time": "2022-12-21T15:00:01.844Z"
   },
   {
    "duration": 35,
    "start_time": "2022-12-21T15:00:01.872Z"
   },
   {
    "duration": 56,
    "start_time": "2022-12-21T15:00:01.909Z"
   },
   {
    "duration": 40,
    "start_time": "2022-12-21T15:00:01.967Z"
   },
   {
    "duration": 14,
    "start_time": "2022-12-21T15:00:02.008Z"
   },
   {
    "duration": 35,
    "start_time": "2022-12-21T15:00:02.025Z"
   },
   {
    "duration": 74,
    "start_time": "2022-12-21T15:00:02.062Z"
   },
   {
    "duration": 44,
    "start_time": "2022-12-21T15:00:02.138Z"
   },
   {
    "duration": 64,
    "start_time": "2022-12-21T15:00:02.184Z"
   },
   {
    "duration": 20,
    "start_time": "2022-12-21T15:00:02.250Z"
   },
   {
    "duration": 67,
    "start_time": "2022-12-21T15:00:02.272Z"
   },
   {
    "duration": 342,
    "start_time": "2022-12-21T15:00:02.341Z"
   },
   {
    "duration": 12,
    "start_time": "2022-12-21T15:00:02.686Z"
   },
   {
    "duration": 1184,
    "start_time": "2022-12-21T15:00:02.700Z"
   },
   {
    "duration": 7,
    "start_time": "2022-12-21T15:00:03.888Z"
   },
   {
    "duration": 2247,
    "start_time": "2022-12-21T15:00:03.897Z"
   },
   {
    "duration": 378,
    "start_time": "2022-12-21T15:00:06.146Z"
   },
   {
    "duration": 486,
    "start_time": "2022-12-21T15:00:06.525Z"
   },
   {
    "duration": 8,
    "start_time": "2022-12-21T15:00:07.013Z"
   },
   {
    "duration": 24,
    "start_time": "2022-12-21T15:00:07.022Z"
   },
   {
    "duration": 174,
    "start_time": "2022-12-21T15:00:07.049Z"
   },
   {
    "duration": 5,
    "start_time": "2022-12-21T15:00:07.225Z"
   },
   {
    "duration": 182,
    "start_time": "2022-12-21T15:00:07.232Z"
   },
   {
    "duration": 5,
    "start_time": "2022-12-21T15:00:07.417Z"
   },
   {
    "duration": 206,
    "start_time": "2022-12-21T15:00:07.424Z"
   },
   {
    "duration": 3,
    "start_time": "2022-12-21T15:00:07.632Z"
   },
   {
    "duration": 293,
    "start_time": "2022-12-21T15:00:07.637Z"
   },
   {
    "duration": 304,
    "start_time": "2022-12-21T15:00:07.931Z"
   },
   {
    "duration": 307,
    "start_time": "2022-12-21T15:00:08.237Z"
   },
   {
    "duration": 3,
    "start_time": "2022-12-21T15:00:08.545Z"
   },
   {
    "duration": 9,
    "start_time": "2022-12-21T15:00:08.549Z"
   },
   {
    "duration": 20,
    "start_time": "2022-12-21T15:00:08.561Z"
   },
   {
    "duration": 10,
    "start_time": "2022-12-21T15:00:08.583Z"
   },
   {
    "duration": 35,
    "start_time": "2022-12-21T15:00:08.595Z"
   },
   {
    "duration": 1128,
    "start_time": "2023-01-18T15:09:03.531Z"
   },
   {
    "duration": 227,
    "start_time": "2023-01-18T15:09:04.661Z"
   },
   {
    "duration": 3,
    "start_time": "2023-01-18T15:09:04.890Z"
   },
   {
    "duration": 35,
    "start_time": "2023-01-18T15:09:04.896Z"
   },
   {
    "duration": 26,
    "start_time": "2023-01-18T15:09:04.932Z"
   },
   {
    "duration": 1516,
    "start_time": "2023-01-18T15:09:04.959Z"
   },
   {
    "duration": 4,
    "start_time": "2023-01-18T15:09:06.478Z"
   },
   {
    "duration": 22,
    "start_time": "2023-01-18T15:09:06.485Z"
   },
   {
    "duration": 10,
    "start_time": "2023-01-18T15:09:06.510Z"
   },
   {
    "duration": 18,
    "start_time": "2023-01-18T15:09:06.524Z"
   },
   {
    "duration": 14,
    "start_time": "2023-01-18T15:09:06.544Z"
   },
   {
    "duration": 112,
    "start_time": "2023-01-18T15:09:06.560Z"
   },
   {
    "duration": 22,
    "start_time": "2023-01-18T15:09:06.674Z"
   },
   {
    "duration": 14,
    "start_time": "2023-01-18T15:09:06.698Z"
   },
   {
    "duration": 3,
    "start_time": "2023-01-18T15:09:06.713Z"
   },
   {
    "duration": 10,
    "start_time": "2023-01-18T15:09:06.718Z"
   },
   {
    "duration": 12,
    "start_time": "2023-01-18T15:09:06.730Z"
   },
   {
    "duration": 20,
    "start_time": "2023-01-18T15:09:06.743Z"
   },
   {
    "duration": 8,
    "start_time": "2023-01-18T15:09:06.765Z"
   },
   {
    "duration": 13,
    "start_time": "2023-01-18T15:09:06.774Z"
   },
   {
    "duration": 5,
    "start_time": "2023-01-18T15:09:06.791Z"
   },
   {
    "duration": 12,
    "start_time": "2023-01-18T15:09:06.798Z"
   },
   {
    "duration": 6,
    "start_time": "2023-01-18T15:09:06.812Z"
   },
   {
    "duration": 13,
    "start_time": "2023-01-18T15:09:06.820Z"
   },
   {
    "duration": 6,
    "start_time": "2023-01-18T15:09:06.836Z"
   },
   {
    "duration": 49,
    "start_time": "2023-01-18T15:09:06.844Z"
   },
   {
    "duration": 355,
    "start_time": "2023-01-18T15:09:06.895Z"
   },
   {
    "duration": 14,
    "start_time": "2023-01-18T15:09:07.254Z"
   },
   {
    "duration": 1125,
    "start_time": "2023-01-18T15:09:07.270Z"
   },
   {
    "duration": 5,
    "start_time": "2023-01-18T15:09:08.397Z"
   },
   {
    "duration": 1319,
    "start_time": "2023-01-18T15:09:08.403Z"
   },
   {
    "duration": 322,
    "start_time": "2023-01-18T15:09:09.724Z"
   },
   {
    "duration": 332,
    "start_time": "2023-01-18T15:09:10.048Z"
   },
   {
    "duration": 10,
    "start_time": "2023-01-18T15:09:10.382Z"
   },
   {
    "duration": 14,
    "start_time": "2023-01-18T15:09:10.394Z"
   },
   {
    "duration": 223,
    "start_time": "2023-01-18T15:09:10.410Z"
   },
   {
    "duration": 6,
    "start_time": "2023-01-18T15:09:10.635Z"
   },
   {
    "duration": 165,
    "start_time": "2023-01-18T15:09:10.642Z"
   },
   {
    "duration": 5,
    "start_time": "2023-01-18T15:09:10.809Z"
   },
   {
    "duration": 12,
    "start_time": "2023-01-18T15:09:10.816Z"
   },
   {
    "duration": 192,
    "start_time": "2023-01-18T15:09:10.830Z"
   },
   {
    "duration": 2,
    "start_time": "2023-01-18T15:09:11.024Z"
   },
   {
    "duration": 315,
    "start_time": "2023-01-18T15:09:11.028Z"
   },
   {
    "duration": 328,
    "start_time": "2023-01-18T15:09:11.345Z"
   },
   {
    "duration": 181,
    "start_time": "2023-01-18T15:09:11.675Z"
   },
   {
    "duration": 2,
    "start_time": "2023-01-18T15:09:11.858Z"
   },
   {
    "duration": 10,
    "start_time": "2023-01-18T15:09:11.862Z"
   },
   {
    "duration": 6,
    "start_time": "2023-01-18T15:09:11.873Z"
   },
   {
    "duration": 8,
    "start_time": "2023-01-18T15:09:11.892Z"
   },
   {
    "duration": 13,
    "start_time": "2023-01-18T15:09:11.902Z"
   },
   {
    "duration": 1035,
    "start_time": "2023-01-18T15:18:09.022Z"
   },
   {
    "duration": 86,
    "start_time": "2023-01-18T15:18:10.059Z"
   },
   {
    "duration": 3,
    "start_time": "2023-01-18T15:18:10.147Z"
   },
   {
    "duration": 18,
    "start_time": "2023-01-18T15:18:10.154Z"
   },
   {
    "duration": 14,
    "start_time": "2023-01-18T15:18:10.173Z"
   },
   {
    "duration": 1274,
    "start_time": "2023-01-18T15:18:10.189Z"
   },
   {
    "duration": 3,
    "start_time": "2023-01-18T15:18:11.465Z"
   },
   {
    "duration": 6,
    "start_time": "2023-01-18T15:18:11.470Z"
   },
   {
    "duration": 15,
    "start_time": "2023-01-18T15:18:11.478Z"
   },
   {
    "duration": 13,
    "start_time": "2023-01-18T15:18:11.495Z"
   },
   {
    "duration": 9,
    "start_time": "2023-01-18T15:18:11.509Z"
   },
   {
    "duration": 132,
    "start_time": "2023-01-18T15:18:11.519Z"
   },
   {
    "duration": 9,
    "start_time": "2023-01-18T15:18:11.652Z"
   },
   {
    "duration": 18,
    "start_time": "2023-01-18T15:18:11.662Z"
   },
   {
    "duration": 4,
    "start_time": "2023-01-18T15:18:11.692Z"
   },
   {
    "duration": 7,
    "start_time": "2023-01-18T15:18:11.698Z"
   },
   {
    "duration": 19,
    "start_time": "2023-01-18T15:18:11.707Z"
   },
   {
    "duration": 7,
    "start_time": "2023-01-18T15:18:11.728Z"
   },
   {
    "duration": 9,
    "start_time": "2023-01-18T15:18:11.736Z"
   },
   {
    "duration": 6,
    "start_time": "2023-01-18T15:18:11.747Z"
   },
   {
    "duration": 5,
    "start_time": "2023-01-18T15:18:11.755Z"
   },
   {
    "duration": 8,
    "start_time": "2023-01-18T15:18:11.761Z"
   },
   {
    "duration": 23,
    "start_time": "2023-01-18T15:18:11.771Z"
   },
   {
    "duration": 15,
    "start_time": "2023-01-18T15:18:11.796Z"
   },
   {
    "duration": 5,
    "start_time": "2023-01-18T15:18:11.813Z"
   },
   {
    "duration": 15,
    "start_time": "2023-01-18T15:18:11.820Z"
   },
   {
    "duration": 335,
    "start_time": "2023-01-18T15:18:11.836Z"
   },
   {
    "duration": 21,
    "start_time": "2023-01-18T15:18:12.174Z"
   },
   {
    "duration": 1080,
    "start_time": "2023-01-18T15:18:12.197Z"
   },
   {
    "duration": 16,
    "start_time": "2023-01-18T15:18:13.278Z"
   },
   {
    "duration": 1254,
    "start_time": "2023-01-18T15:18:13.296Z"
   },
   {
    "duration": 325,
    "start_time": "2023-01-18T15:18:14.552Z"
   },
   {
    "duration": 367,
    "start_time": "2023-01-18T15:18:14.879Z"
   },
   {
    "duration": 5,
    "start_time": "2023-01-18T15:18:15.248Z"
   },
   {
    "duration": 27,
    "start_time": "2023-01-18T15:18:15.255Z"
   },
   {
    "duration": 228,
    "start_time": "2023-01-18T15:18:15.284Z"
   },
   {
    "duration": 5,
    "start_time": "2023-01-18T15:18:15.514Z"
   },
   {
    "duration": 162,
    "start_time": "2023-01-18T15:18:15.520Z"
   },
   {
    "duration": 8,
    "start_time": "2023-01-18T15:18:15.684Z"
   },
   {
    "duration": 31,
    "start_time": "2023-01-18T15:18:15.694Z"
   },
   {
    "duration": 187,
    "start_time": "2023-01-18T15:18:15.727Z"
   },
   {
    "duration": 2,
    "start_time": "2023-01-18T15:18:15.916Z"
   },
   {
    "duration": 324,
    "start_time": "2023-01-18T15:18:15.920Z"
   },
   {
    "duration": 347,
    "start_time": "2023-01-18T15:18:16.246Z"
   },
   {
    "duration": 168,
    "start_time": "2023-01-18T15:18:16.595Z"
   },
   {
    "duration": 2,
    "start_time": "2023-01-18T15:18:16.765Z"
   },
   {
    "duration": 23,
    "start_time": "2023-01-18T15:18:16.769Z"
   },
   {
    "duration": 9,
    "start_time": "2023-01-18T15:18:16.793Z"
   },
   {
    "duration": 28,
    "start_time": "2023-01-18T15:18:16.804Z"
   },
   {
    "duration": 10,
    "start_time": "2023-01-18T15:18:16.835Z"
   },
   {
    "duration": 1040,
    "start_time": "2023-01-18T16:36:58.543Z"
   },
   {
    "duration": 97,
    "start_time": "2023-01-18T16:36:59.585Z"
   },
   {
    "duration": 3,
    "start_time": "2023-01-18T16:36:59.684Z"
   },
   {
    "duration": 21,
    "start_time": "2023-01-18T16:36:59.690Z"
   },
   {
    "duration": 15,
    "start_time": "2023-01-18T16:36:59.712Z"
   },
   {
    "duration": 1370,
    "start_time": "2023-01-18T16:36:59.728Z"
   },
   {
    "duration": 5,
    "start_time": "2023-01-18T16:37:01.099Z"
   },
   {
    "duration": 56,
    "start_time": "2023-01-18T16:37:01.106Z"
   },
   {
    "duration": 30,
    "start_time": "2023-01-18T16:37:01.164Z"
   },
   {
    "duration": 60,
    "start_time": "2023-01-18T16:37:01.197Z"
   },
   {
    "duration": 53,
    "start_time": "2023-01-18T16:37:01.258Z"
   },
   {
    "duration": 113,
    "start_time": "2023-01-18T16:37:01.313Z"
   },
   {
    "duration": 53,
    "start_time": "2023-01-18T16:37:01.428Z"
   },
   {
    "duration": 41,
    "start_time": "2023-01-18T16:37:01.482Z"
   },
   {
    "duration": 19,
    "start_time": "2023-01-18T16:37:01.525Z"
   },
   {
    "duration": 15,
    "start_time": "2023-01-18T16:37:01.546Z"
   },
   {
    "duration": 52,
    "start_time": "2023-01-18T16:37:01.563Z"
   },
   {
    "duration": 114,
    "start_time": "2023-01-18T16:37:01.617Z"
   },
   {
    "duration": 16,
    "start_time": "2023-01-18T16:37:01.733Z"
   },
   {
    "duration": 37,
    "start_time": "2023-01-18T16:37:01.751Z"
   },
   {
    "duration": 21,
    "start_time": "2023-01-18T16:37:01.790Z"
   },
   {
    "duration": 25,
    "start_time": "2023-01-18T16:37:01.814Z"
   },
   {
    "duration": 34,
    "start_time": "2023-01-18T16:37:01.841Z"
   },
   {
    "duration": 25,
    "start_time": "2023-01-18T16:37:01.877Z"
   },
   {
    "duration": 15,
    "start_time": "2023-01-18T16:37:01.904Z"
   },
   {
    "duration": 44,
    "start_time": "2023-01-18T16:37:01.921Z"
   },
   {
    "duration": 346,
    "start_time": "2023-01-18T16:37:01.966Z"
   },
   {
    "duration": 12,
    "start_time": "2023-01-18T16:37:02.316Z"
   },
   {
    "duration": 1207,
    "start_time": "2023-01-18T16:37:02.330Z"
   },
   {
    "duration": 5,
    "start_time": "2023-01-18T16:37:03.539Z"
   },
   {
    "duration": 1367,
    "start_time": "2023-01-18T16:37:03.546Z"
   },
   {
    "duration": 350,
    "start_time": "2023-01-18T16:37:04.915Z"
   },
   {
    "duration": 343,
    "start_time": "2023-01-18T16:37:05.267Z"
   },
   {
    "duration": 6,
    "start_time": "2023-01-18T16:37:05.612Z"
   },
   {
    "duration": 23,
    "start_time": "2023-01-18T16:37:05.620Z"
   },
   {
    "duration": 259,
    "start_time": "2023-01-18T16:37:05.644Z"
   },
   {
    "duration": 6,
    "start_time": "2023-01-18T16:37:05.905Z"
   },
   {
    "duration": 170,
    "start_time": "2023-01-18T16:37:05.913Z"
   },
   {
    "duration": 9,
    "start_time": "2023-01-18T16:37:06.085Z"
   },
   {
    "duration": 163,
    "start_time": "2023-01-18T16:37:06.096Z"
   },
   {
    "duration": 7,
    "start_time": "2023-01-18T16:37:06.261Z"
   },
   {
    "duration": 208,
    "start_time": "2023-01-18T16:37:06.270Z"
   },
   {
    "duration": 14,
    "start_time": "2023-01-18T16:37:06.480Z"
   },
   {
    "duration": 182,
    "start_time": "2023-01-18T16:37:06.497Z"
   },
   {
    "duration": 14,
    "start_time": "2023-01-18T16:37:06.681Z"
   },
   {
    "duration": 144,
    "start_time": "2023-01-18T16:37:06.696Z"
   },
   {
    "duration": 6,
    "start_time": "2023-01-18T16:37:06.842Z"
   },
   {
    "duration": 200,
    "start_time": "2023-01-18T16:37:06.850Z"
   },
   {
    "duration": 3,
    "start_time": "2023-01-18T16:37:07.052Z"
   },
   {
    "duration": 322,
    "start_time": "2023-01-18T16:37:07.057Z"
   },
   {
    "duration": 295,
    "start_time": "2023-01-18T16:37:07.380Z"
   },
   {
    "duration": 252,
    "start_time": "2023-01-18T16:37:07.676Z"
   },
   {
    "duration": 2,
    "start_time": "2023-01-18T16:37:07.930Z"
   },
   {
    "duration": 22,
    "start_time": "2023-01-18T16:37:07.933Z"
   },
   {
    "duration": 9,
    "start_time": "2023-01-18T16:37:07.957Z"
   },
   {
    "duration": 9,
    "start_time": "2023-01-18T16:37:07.967Z"
   },
   {
    "duration": 15,
    "start_time": "2023-01-18T16:37:07.977Z"
   }
  ],
  "kernelspec": {
   "display_name": "Python 3 (ipykernel)",
   "language": "python",
   "name": "python3"
  },
  "language_info": {
   "codemirror_mode": {
    "name": "ipython",
    "version": 3
   },
   "file_extension": ".py",
   "mimetype": "text/x-python",
   "name": "python",
   "nbconvert_exporter": "python",
   "pygments_lexer": "ipython3",
   "version": "3.9.13"
  },
  "toc": {
   "base_numbering": 1,
   "nav_menu": {},
   "number_sections": true,
   "sideBar": true,
   "skip_h1_title": true,
   "title_cell": "Table of Contents",
   "title_sidebar": "Contents",
   "toc_cell": false,
   "toc_position": {},
   "toc_section_display": true,
   "toc_window_display": false
  }
 },
 "nbformat": 4,
 "nbformat_minor": 5
}
